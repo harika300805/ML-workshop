{
  "nbformat": 4,
  "nbformat_minor": 0,
  "metadata": {
    "colab": {
      "provenance": [],
      "authorship_tag": "ABX9TyOF2Ycr0bEGhtc9lJ6ZLzBL",
      "include_colab_link": true
    },
    "kernelspec": {
      "name": "python3",
      "display_name": "Python 3"
    },
    "language_info": {
      "name": "python"
    }
  },
  "cells": [
    {
      "cell_type": "markdown",
      "metadata": {
        "id": "view-in-github",
        "colab_type": "text"
      },
      "source": [
        "<a href=\"https://colab.research.google.com/github/harika300805/ML-workshop/blob/main/Assignment_2.ipynb\" target=\"_parent\"><img src=\"https://colab.research.google.com/assets/colab-badge.svg\" alt=\"Open In Colab\"/></a>"
      ]
    },
    {
      "cell_type": "code",
      "execution_count": null,
      "metadata": {
        "colab": {
          "base_uri": "https://localhost:8080/"
        },
        "id": "Zp0D5oNvFVmr",
        "outputId": "244030b1-d39e-4933-eeb3-1bfd614290c6"
      },
      "outputs": [
        {
          "output_type": "stream",
          "name": "stdout",
          "text": [
            "    Name  Age  Salary\n",
            "0  Alice   24   50000\n",
            "1    Bob   27   55000\n",
            "2  Carol   22   48000\n",
            "    Name  Age  Salary   Bonus\n",
            "0  Alice   24   50000  5000.0\n",
            "1    Bob   27   55000  5500.0\n",
            "2  Carol   22   48000  4800.0\n"
          ]
        }
      ],
      "source": [
        "#1. Create a Pandas DataFrame from the following dictionary:\n",
        "import pandas as pd\n",
        "data = {\n",
        " 'Name': ['Alice', 'Bob', 'Carol'],\n",
        " 'Age': [24, 27, 22],\n",
        " 'Salary': [50000, 55000, 48000]\n",
        "}\n",
        "df = pd.DataFrame(data)\n",
        "print(df)\n",
        "#Add a new column called Bonus which is 10% of the salary.\n",
        "col={ 'Bonus' : 0.1*df['Salary']}\n",
        "df=pd.concat([df,pd.DataFrame(col)],axis=1)\n",
        "print(df)\n",
        "\n"
      ]
    },
    {
      "cell_type": "code",
      "source": [
        "#2. Display the first two rows.\n",
        "print(\"The first two rows are: \\n\",df.head(2))\n",
        "#Compute the mean salary\n",
        "print(\"Mean of the salary is: \",df['Salary'].mean())"
      ],
      "metadata": {
        "colab": {
          "base_uri": "https://localhost:8080/"
        },
        "id": "WvMMJSIZHm7A",
        "outputId": "d8983c38-5bcc-47b7-806e-54e62d3ab827"
      },
      "execution_count": null,
      "outputs": [
        {
          "output_type": "stream",
          "name": "stdout",
          "text": [
            "The first two rows are: \n",
            "     Name  Age  Salary   Bonus\n",
            "0  Alice   24   50000  5000.0\n",
            "1    Bob   27   55000  5500.0\n",
            "Mean of the salary is:  51000.0\n"
          ]
        }
      ]
    },
    {
      "cell_type": "code",
      "source": [
        "#3. Extract all rows where the Age is greater than 25\n",
        "print(\"The rows where age is greater than 25 are: \\n\",df[df['Age']>25])\n",
        "#Filter out rows where the Salary is less than 50000.\n",
        "print(\"The rows where salary is less than 50000 are: \\n\",df[df['Salary']<50000])"
      ],
      "metadata": {
        "colab": {
          "base_uri": "https://localhost:8080/"
        },
        "id": "CilZyc26I514",
        "outputId": "0b052884-64c1-404b-8f98-8cbf75f07833"
      },
      "execution_count": null,
      "outputs": [
        {
          "output_type": "stream",
          "name": "stdout",
          "text": [
            "The rows where age is greater than 25 are: \n",
            "   Name  Age  Salary   Bonus\n",
            "1  Bob   27   55000  5500.0\n",
            "The rows where salary is less than 50000 are: \n",
            "     Name  Age  Salary   Bonus\n",
            "2  Carol   22   48000  4800.0\n"
          ]
        }
      ]
    },
    {
      "cell_type": "code",
      "source": [
        "#4. Create the DataFrame\n",
        "import pandas as pd\n",
        "data = {\n",
        " 'A': [1, 2, None, 4],\n",
        " 'B': [None, 2, 3, None],\n",
        " 'C': [1, 2, 3, 4]\n",
        "}\n",
        "df = pd.DataFrame(data)\n",
        "print(df)\n",
        "# Fill missing values in column A with the mean of the column\n",
        "df['A'] = df['A'].fillna(df['A'].mean())\n",
        "print(df)\n",
        "#Drop rows where all values are None\n",
        "df = df.dropna(how='all')\n",
        "print(df)"
      ],
      "metadata": {
        "colab": {
          "base_uri": "https://localhost:8080/"
        },
        "id": "2r0oBeT5KKQJ",
        "outputId": "e897ba5a-a756-4928-8495-e18625ce7356"
      },
      "execution_count": null,
      "outputs": [
        {
          "output_type": "stream",
          "name": "stdout",
          "text": [
            "     A    B  C\n",
            "0  1.0  NaN  1\n",
            "1  2.0  2.0  2\n",
            "2  NaN  3.0  3\n",
            "3  4.0  NaN  4\n",
            "          A    B  C\n",
            "0  1.000000  NaN  1\n",
            "1  2.000000  2.0  2\n",
            "2  2.333333  3.0  3\n",
            "3  4.000000  NaN  4\n",
            "          A    B  C\n",
            "0  1.000000  NaN  1\n",
            "1  2.000000  2.0  2\n",
            "2  2.333333  3.0  3\n",
            "3  4.000000  NaN  4\n"
          ]
        }
      ]
    },
    {
      "cell_type": "code",
      "source": [
        "#5. Create a DataFrame for employees\n",
        "import pandas as pd\n",
        "data = { 'Department': ['HR', 'HR', 'IT', 'IT', 'Finance'], 'Employee': ['Alice', 'Bob', 'Carol', 'David', 'Eve'], 'Salary': [50000, 45000, 60000, 65000, 70000] }\n",
        "df=pd.DataFrame(data)\n",
        "print(df)\n",
        "#Group the data by Department and compute the total and mean salary for each department.\n",
        "print(df.groupby('Department').agg({'Salary': ['sum', 'mean']}))"
      ],
      "metadata": {
        "colab": {
          "base_uri": "https://localhost:8080/"
        },
        "id": "718d_RzEa5mO",
        "outputId": "1838ba1e-1398-4f79-a2e9-a5139f312f22"
      },
      "execution_count": null,
      "outputs": [
        {
          "output_type": "stream",
          "name": "stdout",
          "text": [
            "  Department Employee  Salary\n",
            "0         HR    Alice   50000\n",
            "1         HR      Bob   45000\n",
            "2         IT    Carol   60000\n",
            "3         IT    David   65000\n",
            "4    Finance      Eve   70000\n",
            "            Salary         \n",
            "               sum     mean\n",
            "Department                 \n",
            "Finance      70000  70000.0\n",
            "HR           95000  47500.0\n",
            "IT          125000  62500.0\n"
          ]
        }
      ]
    },
    {
      "cell_type": "code",
      "source": [
        "#6.Given two DataFrames:\n",
        "#Perform an inner join on the ID column.\n",
        "import pandas as pd\n",
        "df1 = pd.DataFrame({'ID': [1, 2, 3], 'Name': ['Alice', 'Bob', 'Carol']})\n",
        "df2 = pd.DataFrame({'ID': [2, 3, 4], 'Age': [25, 30, 22]})\n",
        "print(f\"DF1 \\n{df1}\\n\")\n",
        "print(f\"DF2 \\n{df2}\\n\")\n",
        "print(f\" After inner join: \\n {df1.merge(df2,on='ID',how='inner')}\")"
      ],
      "metadata": {
        "colab": {
          "base_uri": "https://localhost:8080/"
        },
        "id": "MLQ5S_cPbVoD",
        "outputId": "f12d1427-32dd-4604-a8bc-c8123d5fa34c"
      },
      "execution_count": null,
      "outputs": [
        {
          "output_type": "stream",
          "name": "stdout",
          "text": [
            "DF1 \n",
            "   ID   Name\n",
            "0   1  Alice\n",
            "1   2    Bob\n",
            "2   3  Carol\n",
            "\n",
            "DF2 \n",
            "   ID  Age\n",
            "0   2   25\n",
            "1   3   30\n",
            "2   4   22\n",
            "\n",
            " After inner join: \n",
            "    ID   Name  Age\n",
            "0   2    Bob   25\n",
            "1   3  Carol   30\n"
          ]
        }
      ]
    },
    {
      "cell_type": "code",
      "source": [
        "# 7. Given a small dataset, clean and display basic statistics using Pandas\n",
        "import pandas as pd\n",
        "data = {\n",
        "    'Name': ['Alice', 'Bob', 'Charlie', 'David', None],\n",
        "    'Age': [25, None, 30, 29, 22],\n",
        "    'Salary': [50000, 60000, None, 70000, 40000]\n",
        "}\n",
        "df = pd.DataFrame(data)\n",
        "print(\"Original Dataset:\")\n",
        "print(df)\n",
        "cleaned_df = df.dropna()\n",
        "print(\"\\nCleaned Dataset: \")\n",
        "print(cleaned_df)\n",
        "print(\"\\nBasic Statistics:\")\n",
        "print(cleaned_df.describe(include='all'))"
      ],
      "metadata": {
        "colab": {
          "base_uri": "https://localhost:8080/"
        },
        "id": "ZF4kN4p8b7qi",
        "outputId": "41444d04-080e-4605-9798-c9f60febfb8a"
      },
      "execution_count": null,
      "outputs": [
        {
          "output_type": "stream",
          "name": "stdout",
          "text": [
            "Original Dataset:\n",
            "      Name   Age   Salary\n",
            "0    Alice  25.0  50000.0\n",
            "1      Bob   NaN  60000.0\n",
            "2  Charlie  30.0      NaN\n",
            "3    David  29.0  70000.0\n",
            "4     None  22.0  40000.0\n",
            "\n",
            "Cleaned Dataset: \n",
            "    Name   Age   Salary\n",
            "0  Alice  25.0  50000.0\n",
            "3  David  29.0  70000.0\n",
            "\n",
            "Basic Statistics:\n",
            "         Name        Age        Salary\n",
            "count       2   2.000000      2.000000\n",
            "unique      2        NaN           NaN\n",
            "top     Alice        NaN           NaN\n",
            "freq        1        NaN           NaN\n",
            "mean      NaN  27.000000  60000.000000\n",
            "std       NaN   2.828427  14142.135624\n",
            "min       NaN  25.000000  50000.000000\n",
            "25%       NaN  26.000000  55000.000000\n",
            "50%       NaN  27.000000  60000.000000\n",
            "75%       NaN  28.000000  65000.000000\n",
            "max       NaN  29.000000  70000.000000\n"
          ]
        }
      ]
    },
    {
      "cell_type": "code",
      "source": [
        "# 9. Data Transformation\n",
        "# Load a dataset containing daily temperatures and dates. Perform the following:\n",
        "# Convert the date column into a DateTime object.\n",
        "# Create a new column that categorizes temperatures into High, Medium, or Low.\n",
        "import pandas as pd\n",
        "data = {\n",
        "    'Date': ['2024-01-01', '2024-01-02', '2024-01-03', '2024-01-04', '2024-01-05'],\n",
        "    'Temperature': [15, 22, 30, 8, 25]\n",
        "}\n",
        "\n",
        "df = pd.DataFrame(data)\n",
        "print(df)\n",
        "df['Date'] = pd.to_datetime(df['Date'])\n",
        "\n",
        "df['Category'] = pd.cut(\n",
        "    df['Temperature'],\n",
        "    bins=[-float('inf'), 15, 25, float('inf')],\n",
        "    labels=['Low', 'Medium', 'High']\n",
        ")\n",
        "\n",
        "print(\"\\n Altered Dataset:\")\n",
        "print(df)"
      ],
      "metadata": {
        "colab": {
          "base_uri": "https://localhost:8080/"
        },
        "id": "uzJyD3cHck9P",
        "outputId": "e3424fe0-4747-4238-b5f4-995ad6cbdb1c"
      },
      "execution_count": null,
      "outputs": [
        {
          "output_type": "stream",
          "name": "stdout",
          "text": [
            "         Date  Temperature\n",
            "0  2024-01-01           15\n",
            "1  2024-01-02           22\n",
            "2  2024-01-03           30\n",
            "3  2024-01-04            8\n",
            "4  2024-01-05           25\n",
            "\n",
            " Altered Dataset:\n",
            "        Date  Temperature Category\n",
            "0 2024-01-01           15      Low\n",
            "1 2024-01-02           22   Medium\n",
            "2 2024-01-03           30     High\n",
            "3 2024-01-04            8      Low\n",
            "4 2024-01-05           25   Medium\n"
          ]
        }
      ]
    }
  ]
}