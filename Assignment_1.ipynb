{
  "nbformat": 4,
  "nbformat_minor": 0,
  "metadata": {
    "colab": {
      "provenance": [],
      "authorship_tag": "ABX9TyMd/jWoBfV8KpcYsEEL3hxg",
      "include_colab_link": true
    },
    "kernelspec": {
      "name": "python3",
      "display_name": "Python 3"
    },
    "language_info": {
      "name": "python"
    }
  },
  "cells": [
    {
      "cell_type": "markdown",
      "metadata": {
        "id": "view-in-github",
        "colab_type": "text"
      },
      "source": [
        "<a href=\"https://colab.research.google.com/github/harika300805/ML-workshop/blob/main/mlWorkshop.ipynb\" target=\"_parent\"><img src=\"https://colab.research.google.com/assets/colab-badge.svg\" alt=\"Open In Colab\"/></a>"
      ]
    },
    {
      "cell_type": "code",
      "execution_count": null,
      "metadata": {
        "colab": {
          "base_uri": "https://localhost:8080/"
        },
        "id": "-Q2j9llvgLw1",
        "outputId": "70460b74-ee61-47cb-94eb-c6b5a29d179a"
      },
      "outputs": [
        {
          "output_type": "stream",
          "name": "stdout",
          "text": [
            "Addition of 2 arrays is:  [ 5  5 20 10 16]\n",
            "Subtraction of 2 arrays is:  [-1  3  4  0  2]\n",
            "Multiplication of 2 arrays is:  [ 6  4 96 25 63]\n",
            "Division of 2 arrays is:  [0.66666667 4.         1.5        1.         1.28571429]\n",
            "Remainder using numpy arrays:  [2 0 4 0 2]\n",
            "Power function using numpy arrays:  [  4  16 144  25  81]\n"
          ]
        }
      ],
      "source": [
        "#1. Perform arithmetic operations on NumPy arrays.\n",
        "import numpy as np\n",
        "arr1=np.array([2,4,12,5,9])\n",
        "arr2=np.array([3,1,8,5,7])\n",
        "print(\"Addition of 2 arrays is: \",arr1+arr2) #or we can use add_arr=np.add(arr1,arr2)\n",
        "print(\"Subtraction of 2 arrays is: \",arr1-arr2) #or we can use sub_arr=np.subtract(arr1,arr2)\n",
        "print(\"Multiplication of 2 arrays is: \",arr1*arr2) #or we can use mul_arr=np.multiply(arr1,arr2)\n",
        "print(\"Division of 2 arrays is: \",arr1/arr2) #or we can use div_arr=np.divide(arr1,arr2)\n",
        "print(\"Remainder using numpy arrays: \",np.mod(arr1,arr2))\n",
        "print(\"Power function using numpy arrays: \",np.power(arr1,2))\n"
      ]
    },
    {
      "cell_type": "code",
      "source": [
        "#2. Write a script to compute the mean and standard deviation of a NumPy array.\n",
        "import numpy as np\n",
        "arr=np.array([12,23,34,45,56])\n",
        "print(\"Mean of the array is: \",np.mean(arr))\n",
        "print(\"Standard deviation of the array is: \",np.std(arr))\n"
      ],
      "metadata": {
        "id": "rbCZJnC_h3Of",
        "colab": {
          "base_uri": "https://localhost:8080/"
        },
        "outputId": "1164e49e-1b72-4943-f141-9cc6e3521910"
      },
      "execution_count": null,
      "outputs": [
        {
          "output_type": "stream",
          "name": "stdout",
          "text": [
            "Mean of the array is:  34.0\n",
            "Standard deviation of the array is:  15.556349186104045\n"
          ]
        }
      ]
    },
    {
      "cell_type": "code",
      "source": [
        "#3. Create a NumPy array of integers from 10 to 50 with a step size of 5.\n",
        "a=np.arange(10,51,5)\n",
        "print(\"Numpy array : \", a)"
      ],
      "metadata": {
        "colab": {
          "base_uri": "https://localhost:8080/"
        },
        "id": "4XeFs2iT45UC",
        "outputId": "1b6af7d4-cc60-41e2-b98c-829cde4c16e1"
      },
      "execution_count": null,
      "outputs": [
        {
          "output_type": "stream",
          "name": "stdout",
          "text": [
            "Numpy array :  [10 15 20 25 30 35 40 45 50]\n"
          ]
        }
      ]
    },
    {
      "cell_type": "code",
      "source": [
        "#4. Reshape the array into a 2x4 matrix.\n",
        "a=a[:8]\n",
        "Array=a.reshape(2,4)\n",
        "print(\"Reshaped array : \",Array)"
      ],
      "metadata": {
        "colab": {
          "base_uri": "https://localhost:8080/"
        },
        "id": "jrHZ8qAmICCe",
        "outputId": "1bf03cce-6819-465f-a6ac-94a69bfb048c"
      },
      "execution_count": null,
      "outputs": [
        {
          "output_type": "stream",
          "name": "stdout",
          "text": [
            "Reshaped array :  [[10 15 20 25]\n",
            " [30 35 40 45]]\n"
          ]
        }
      ]
    },
    {
      "cell_type": "code",
      "source": [
        "'''5. Given the array arr = np.array([[1, 2, 3], [4, 5, 6], [7, 8, 9]]):\n",
        "      • Extract the sub-matrix containing the last two rows and first two columns.\n",
        "      • Replace all elements greater than 4 with 0. '''\n",
        "Arr=np.array([[1,2,3],[4,5,6],[7,8,9]])\n",
        "Arr1=Arr[1: , :2]\n",
        "print(\"Sub-matrix of the array:\\n \",Arr1)\n",
        "for i in range(3):\n",
        "  for j in range(3):\n",
        "    if Arr[i,j] >4 :\n",
        "      Arr[i,j] = 0\n",
        "print(\"ALtered array :\\n\",Arr)\n"
      ],
      "metadata": {
        "colab": {
          "base_uri": "https://localhost:8080/"
        },
        "id": "32Dx231fIbHd",
        "outputId": "d062fb4b-e4ba-420c-d6aa-0aeaf3b8a8c5"
      },
      "execution_count": null,
      "outputs": [
        {
          "output_type": "stream",
          "name": "stdout",
          "text": [
            "Sub-matrix of the array:\n",
            "  [[4 5]\n",
            " [7 8]]\n",
            "ALtered array :\n",
            " [[1 2 3]\n",
            " [4 0 0]\n",
            " [0 0 0]]\n"
          ]
        }
      ]
    },
    {
      "cell_type": "code",
      "source": [
        "'''6. Create two 1D arrays:\n",
        "      • a = np.array([1, 2, 3])\n",
        "      • b = np.array([4, 5, 6])\n",
        "      • Perform element-wise addition, multiplication, and division.'''\n",
        "a=np.array([1,2,3])\n",
        "b=np.array([4,5,6])\n",
        "add_ab=np.add(a,b)\n",
        "mul_ab=np.multiply(a,b)\n",
        "div_ab=np.divide(a,b)\n",
        "print(\"Addtion: \",add_ab)\n",
        "print(\"Multiplication: \",mul_ab)\n",
        "print(\"Division: \",div_ab)"
      ],
      "metadata": {
        "colab": {
          "base_uri": "https://localhost:8080/"
        },
        "id": "TAO6AbO8J36-",
        "outputId": "eb591934-955e-4172-be7d-4bf50da82677"
      },
      "execution_count": null,
      "outputs": [
        {
          "output_type": "stream",
          "name": "stdout",
          "text": [
            "Addtion:  [5 7 9]\n",
            "Multiplication:  [ 4 10 18]\n",
            "Division:  [0.25 0.4  0.5 ]\n"
          ]
        }
      ]
    },
    {
      "cell_type": "code",
      "source": [
        "'''7. Create a random NumPy array of size (4, 4). Compute:\n",
        "      • Mean of each column.\n",
        "      • Maximum value of the entire array.\n",
        "      • Sum of all elements.'''\n",
        "r_arr=np.random.rand(4,4)\n",
        "mean_r=np.mean(r_arr,axis=0)\n",
        "max_r=np.max(r_arr)\n",
        "sum_r=np.sum(r_arr)\n",
        "print(\"Mean of each column: \",mean_r)\n",
        "print(\"Maximum value of the array: \", max_r)\n",
        "print(\"Sum of elements in array: \",sum_r)"
      ],
      "metadata": {
        "colab": {
          "base_uri": "https://localhost:8080/"
        },
        "id": "TGdH636CNPEq",
        "outputId": "65235091-154b-4434-afae-993475f9d917"
      },
      "execution_count": null,
      "outputs": [
        {
          "output_type": "stream",
          "name": "stdout",
          "text": [
            "Mean of each column:  [0.59737269 0.43339439 0.56785644 0.46343513]\n",
            "Maximum value of the array:  0.9757208114357039\n",
            "Sum of elements in array:  8.248234552381334\n"
          ]
        }
      ]
    },
    {
      "cell_type": "code",
      "source": [
        "'''8. Given the array arr = np.array([1, 2, 3, 4]), add 10 to each element and multiply\n",
        "      the result by 2. '''\n",
        "array=np.array([1,2,3,4])\n",
        "array=(array+10)*2\n",
        "print(\"Altered array: \", array)"
      ],
      "metadata": {
        "colab": {
          "base_uri": "https://localhost:8080/"
        },
        "id": "kUjdX0ztObBF",
        "outputId": "79b8782e-f4fd-4dd3-be8a-4f47aeee8070"
      },
      "execution_count": null,
      "outputs": [
        {
          "output_type": "stream",
          "name": "stdout",
          "text": [
            "Altered array:  [22 24 26 28]\n"
          ]
        }
      ]
    },
    {
      "cell_type": "code",
      "source": [
        "'''9. Perform advanced slicing and indexing on a 3D array.\n",
        "      Create a 3D NumPy array arr of shape (3, 4, 5) with random integers ranging from\n",
        "      1 to 100. Perform the following:\n",
        "      • Extract the second \"layer\" (i.e., the second 2D array) in the first dimension.\n",
        "      • Extract the first two rows and the last three columns from each \"layer.\"\n",
        "      • Replace all elements divisible by 3 with -1. '''\n",
        "import numpy as np\n",
        "arr=np.random.randint(1,101,(3,4,5))\n",
        "print(arr)\n",
        "arr1=arr[: ,1:2, ]\n",
        "print(\"Extracted array no.1: \\n\",arr1)\n",
        "arr2=arr[:, :2, -3: ]\n",
        "print(\"Extracted array no.2: \\n\",arr2)\n",
        "for i in range(3):\n",
        "  for j in range(4):\n",
        "    for k in range(5):\n",
        "      if arr[i][j][k]%3 == 0 :\n",
        "        arr[i][j][k]=-1\n",
        "print(\"Replaced array: \\n\",arr)\n"
      ],
      "metadata": {
        "colab": {
          "base_uri": "https://localhost:8080/"
        },
        "id": "VXJSCbl-QuQo",
        "outputId": "4b403055-df33-4b3d-ec99-97e407d9d562"
      },
      "execution_count": null,
      "outputs": [
        {
          "output_type": "stream",
          "name": "stdout",
          "text": [
            "[[[35 43 95 99 51]\n",
            "  [45 35 46 34 19]\n",
            "  [98 17 56 28 58]\n",
            "  [12 26  6 11 52]]\n",
            "\n",
            " [[29 95 54 28 68]\n",
            "  [26 62 43 17 95]\n",
            "  [96 72 98 74 14]\n",
            "  [49  4 81 53 27]]\n",
            "\n",
            " [[60 31 20 42 70]\n",
            "  [33 10 89 80 25]\n",
            "  [60 16 16 31 52]\n",
            "  [ 2 26 16 97 44]]]\n",
            "Extracted array no.1: \n",
            " [[[45 35 46 34 19]]\n",
            "\n",
            " [[26 62 43 17 95]]\n",
            "\n",
            " [[33 10 89 80 25]]]\n",
            "Extracted array no.2: \n",
            " [[[95 99 51]\n",
            "  [46 34 19]]\n",
            "\n",
            " [[54 28 68]\n",
            "  [43 17 95]]\n",
            "\n",
            " [[20 42 70]\n",
            "  [89 80 25]]]\n",
            "Replaced array: \n",
            " [[[35 43 95 -1 -1]\n",
            "  [-1 35 46 34 19]\n",
            "  [98 17 56 28 58]\n",
            "  [-1 26 -1 11 52]]\n",
            "\n",
            " [[29 95 -1 28 68]\n",
            "  [26 62 43 17 95]\n",
            "  [-1 -1 98 74 14]\n",
            "  [49  4 -1 53 -1]]\n",
            "\n",
            " [[-1 31 20 -1 70]\n",
            "  [-1 10 89 80 25]\n",
            "  [-1 16 16 31 52]\n",
            "  [ 2 26 16 97 44]]]\n"
          ]
        }
      ]
    },
    {
      "cell_type": "code",
      "source": [
        "'''10. Work with broadcasting and advanced operations in NumPy.\n",
        "        Create a NumPy array arr of shape (3, 3) with random integers between\n",
        "        1 and 20. Perform the following:\n",
        "        • Subtract the mean of each row from its respective elements (row-wise\n",
        "        normalization).\n",
        "        • Create a new array by squaring all the elements in arr.\n",
        "        • Find the indices of the top 3 maximum values in the entire array.'''\n",
        "import numpy as np\n",
        "a=np.random.randint(1,21,(3,3))\n",
        "print(a)\n",
        "a1=a.copy()\n",
        "mean_a=np.mean(a,axis=1)\n",
        "for i in range(3):\n",
        "  a1[i]=a[i]-mean_a[i]\n",
        "print(\"Subtracted array: \\n\",a1)\n",
        "sq_a=np.power(a,2)\n",
        "print(\"Squared array: \\n\",sq_a)\n",
        "m=a1[0][0]\n",
        "ind_l=[]\n",
        "for i in range(3):\n",
        "  for j in range(3):\n",
        "    if a[i][j] > m:\n",
        "      m=a[i][j]\n",
        "      ind=[i,j]\n",
        "    ind_l.append(ind)\n",
        "    a[i][j]=0\n",
        "print(\"Indices of top 3 maximum elements :\\n \", ind_l[-3:])\n",
        "\n"
      ],
      "metadata": {
        "id": "FONDhdgaS-Q-",
        "colab": {
          "base_uri": "https://localhost:8080/"
        },
        "outputId": "722bc6e9-7084-48cc-e9ec-9e50d6e83f3e"
      },
      "execution_count": 37,
      "outputs": [
        {
          "output_type": "stream",
          "name": "stdout",
          "text": [
            "[[ 6 11 16]\n",
            " [ 2  9 14]\n",
            " [ 1 17 19]]\n",
            "Subtracted array: \n",
            " [[ -5   0   5]\n",
            " [ -6   0   5]\n",
            " [-11   4   6]]\n",
            "Squared array: \n",
            " [[ 36 121 256]\n",
            " [  4  81 196]\n",
            " [  1 289 361]]\n",
            "Indices of top 3 maximum elements :\n",
            "  [[0, 2], [2, 1], [2, 2]]\n"
          ]
        }
      ]
    },
    {
      "cell_type": "code",
      "source": [],
      "metadata": {
        "id": "mZ0XGB14vtGu"
      },
      "execution_count": null,
      "outputs": []
    }
  ]
}
